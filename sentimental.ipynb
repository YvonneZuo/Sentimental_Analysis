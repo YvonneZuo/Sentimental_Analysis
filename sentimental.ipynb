{
  "cells": [
    {
      "cell_type": "markdown",
      "metadata": {
        "id": "gVxoqefHt2k9"
      },
      "source": [
        "### Acknowledgement:\n",
        "Marcin Zablocki's blog post, \"SENTIMENT ANALYSIS OF TWEETS WITH PYTHON, NLTK, WORD2VEC & SCIKIT-LEARN\",\n",
        "https://zablo.net/blog/post/twitter-sentiment-analysis-python-scikit-word2vec-nltk-xgboost/index.html\n",
        "\n",
        "Pranav Manoj's blog post, \"Sentiment Analysis Using Python and NLTK\"\n",
        "https://medium.com/swlh/sentiment-analysis-using-python-and-nltk-library-d68caba27e1d"
      ]
    },
    {
      "cell_type": "code",
      "execution_count": 1,
      "metadata": {
        "colab": {
          "base_uri": "https://localhost:8080/"
        },
        "id": "jr-bfXgXuZd4",
        "outputId": "46b1eab4-87f5-4c3f-9d9f-bd513fbb570c"
      },
      "outputs": [
        {
          "name": "stderr",
          "output_type": "stream",
          "text": [
            "[nltk_data] Downloading package vader_lexicon to\n",
            "[nltk_data]     /Users/yvonnezuo/nltk_data...\n"
          ]
        }
      ],
      "source": [
        "import nltk\n",
        "nltk.download('vader_lexicon')\n",
        "from nltk.sentiment.vader import SentimentIntensityAnalyzer\n",
        "sentimentAnalyzer = SentimentIntensityAnalyzer()\n"
      ]
    },
    {
      "cell_type": "code",
      "execution_count": 21,
      "metadata": {},
      "outputs": [
        {
          "data": {
            "text/plain": [
              "{'neg': 0.0, 'neu': 0.423, 'pos': 0.577, 'compound': 0.8478}"
            ]
          },
          "execution_count": 21,
          "metadata": {},
          "output_type": "execute_result"
        }
      ],
      "source": [
        "sample = \"This is book is great, profound and amazing!\"\n",
        "sentimentAnalyzer.polarity_scores(sample)"
      ]
    },
    {
      "cell_type": "code",
      "execution_count": 22,
      "metadata": {},
      "outputs": [
        {
          "data": {
            "text/plain": [
              "{'neg': 0.576, 'neu': 0.424, 'pos': 0.0, 'compound': -0.8588}"
            ]
          },
          "execution_count": 22,
          "metadata": {},
          "output_type": "execute_result"
        }
      ],
      "source": [
        "sample = \"This is book is awful, disgusting and a waste of money!\"\n",
        "sentimentAnalyzer.polarity_scores(sample)"
      ]
    },
    {
      "cell_type": "code",
      "execution_count": 23,
      "metadata": {},
      "outputs": [
        {
          "data": {
            "text/plain": [
              "{'neg': 0.0, 'neu': 1.0, 'pos': 0.0, 'compound': 0.0}"
            ]
          },
          "execution_count": 23,
          "metadata": {},
          "output_type": "execute_result"
        }
      ],
      "source": [
        "sample = \"The water is hot.\"\n",
        "sentimentAnalyzer.polarity_scores(sample)"
      ]
    },
    {
      "cell_type": "code",
      "execution_count": 26,
      "metadata": {},
      "outputs": [
        {
          "data": {
            "text/plain": [
              "{'neg': 0.066, 'neu': 0.563, 'pos': 0.371, 'compound': 0.8176}"
            ]
          },
          "execution_count": 26,
          "metadata": {},
          "output_type": "execute_result"
        }
      ],
      "source": [
        "sample = \"You look gorgeous with your beautiful new ring. When do you pay back my money?\"\n",
        "sentimentAnalyzer.polarity_scores(sample)"
      ]
    },
    {
      "cell_type": "code",
      "execution_count": 35,
      "metadata": {},
      "outputs": [
        {
          "data": {
            "text/plain": [
              "{'neg': 0.38, 'neu': 0.62, 'pos': 0.0, 'compound': -0.8689}"
            ]
          },
          "execution_count": 35,
          "metadata": {},
          "output_type": "execute_result"
        }
      ],
      "source": [
        "sample = \"Could you believe all kinds of horrible tragedites and damn shit things will never happen again in my life?\"\n",
        "sentimentAnalyzer.polarity_scores(sample)"
      ]
    },
    {
      "cell_type": "code",
      "execution_count": 37,
      "metadata": {},
      "outputs": [
        {
          "data": {
            "text/plain": [
              "{'neg': 0.0, 'neu': 0.682, 'pos': 0.318, 'compound': 0.7901}"
            ]
          },
          "execution_count": 37,
          "metadata": {},
          "output_type": "execute_result"
        }
      ],
      "source": [
        "sample = \"How lucky and blessed I am! Married with this women who spends tens of thousands of dollars a day.\"\n",
        "sentimentAnalyzer.polarity_scores(sample)"
      ]
    },
    {
      "cell_type": "code",
      "execution_count": 39,
      "metadata": {},
      "outputs": [
        {
          "data": {
            "text/plain": [
              "{'neg': 0.623, 'neu': 0.377, 'pos': 0.0, 'compound': -0.765}"
            ]
          },
          "execution_count": 39,
          "metadata": {},
          "output_type": "execute_result"
        }
      ],
      "source": [
        "sample = \"My hideous enemy becomes a poor wretch.\"\n",
        "sentimentAnalyzer.polarity_scores(sample)"
      ]
    },
    {
      "cell_type": "code",
      "execution_count": 33,
      "metadata": {
        "colab": {
          "base_uri": "https://localhost:8080/"
        },
        "id": "bi1llPqz4qXH",
        "outputId": "60804c84-dbaf-4b4b-a2a3-27d06f2cbed8"
      },
      "outputs": [
        {
          "data": {
            "text/plain": [
              "0.7091"
            ]
          },
          "execution_count": 33,
          "metadata": {},
          "output_type": "execute_result"
        }
      ],
      "source": [
        "from sklearn.metrics import accuracy_score\n",
        "accuracy_score(df['label'], df['sentiment'])"
      ]
    },
    {
      "cell_type": "code",
      "execution_count": 86,
      "metadata": {
        "id": "IGVLH0q57TL9"
      },
      "outputs": [
        {
          "data": {
            "text/plain": [
              "0.5298497267759563"
            ]
          },
          "execution_count": 86,
          "metadata": {},
          "output_type": "execute_result"
        }
      ],
      "source": [
        "import numpy as np\n",
        "import pandas as pd\n",
        "\n",
        "df = pd.read_csv('reviews.csv')\n",
        "df['reviews_sentiment'].value_counts()\n",
        "\n",
        "# negative    9178\n",
        "# neutral     3099\n",
        "# positive    2363\n",
        "# Name: airline_sentiment, dtype: int64\n",
        "\n",
        "# How many tweets are there in the give set:\n",
        "# totoal = 9178 + 3099 + 2363 = 14640\n",
        "\n",
        "# What percentage of tweets are labeled as postive?\n",
        "# positive_percentage = 2363 / 14640 = 0.16140710382513662\n",
        "\n",
        "# What percentage of tweets are labeled as negative?\n",
        "# negative_percentage = 9178 / 14640 = 0.6269125683060109\n",
        "\n",
        "df['scores'] = df['text'].apply(lambda text: sentimentAnalyzer.polarity_scores(text))\n",
        "df.head(10)\n",
        "\n",
        "df['compound'] = df['scores'].apply(lambda score_dict: score_dict['compound'])\n",
        "df.head(30)\n",
        "\n",
        "# positive if compound >= 0.2, negative if compound <= 0.2, neutral if -0.2 < compound < 0.2\n",
        "df['sentiment'] = df['compound'].apply(lambda c: 'positive' if c >=0.2 else ('negative' if c <= -0.2 else 'neutral'))\n",
        "df.head(25)\n",
        "df['sentiment'].value_counts()\n",
        "\n",
        "# pos    5445\n",
        "# neu    4628\n",
        "# neg    4567\n",
        "\n",
        "# Name: sentiment, dtype: int64\n",
        "# How many tweets are there in the give set:\n",
        "# totoal = 5445 + 4628 + 4567 = 14640\n",
        "\n",
        "# What percentage of tweets are labeled as postive by our sentiment intensity analyzer?\n",
        "# positive_percentage = 5445 / 14640 = 0.3719262295081967\n",
        "\n",
        "\n",
        "# What percentage of tweets are labeled as negative by our sentiment intensity analyzer?\n",
        "# negative_percentage = 4567 / 14640 = 0.3119535519125683\n",
        "\n",
        "from sklearn.metrics import accuracy_score\n",
        "accuracy_score(df['airline_sentiment'], df['sentiment'])\n",
        "\n",
        "# How well aligned the originally provided labels, and the labels computed by our sentimentintensity analyzer?\n",
        "# 0.5298497267759563\n",
        "\n"
      ]
    },
    {
      "cell_type": "code",
      "execution_count": 102,
      "metadata": {
        "id": "gs2NT_UJ-bfS"
      },
      "outputs": [
        {
          "data": {
            "text/plain": [
              "0.5507635163021048"
            ]
          },
          "execution_count": 102,
          "metadata": {},
          "output_type": "execute_result"
        }
      ],
      "source": [
        "# @ source: \n",
        "# Ankur Sinha, Sentiment Analysis for Financial News\n",
        "# https://www.kaggle.com/ankurzing/sentiment-analysis-for-financial-news\n",
        "import numpy as np\n",
        "import pandas as pd\n",
        "\n",
        "df = pd.read_csv('data.csv')\n",
        "df['Sentiment'].value_counts()\n",
        "\n",
        "# neutral     2879\n",
        "# positive    1363\n",
        "# negative     604\n",
        "# Name: Sentiment, dtype: int64\n",
        "\n",
        "# How many tweets are there in the give set:\n",
        "# totoal = 2879 + 1363 + 604 = 4846\n",
        "\n",
        "# What percentage of tweets are labeled as postive?\n",
        "# positive_percentage = 1363 / 4846 = 0.28126289723483283\n",
        "\n",
        "# What percentage of tweets are labeled as negative?\n",
        "# negative_percentage = 604 / 4846 = 0.12463887742468015\n",
        "\n",
        "df['scores'] = df['News'].apply(lambda News: sentimentAnalyzer.polarity_scores(News))\n",
        "df.head(10)\n",
        "\n",
        "df['compound'] = df['scores'].apply(lambda score_dict: score_dict['compound'])\n",
        "df.head(40)\n",
        "\n",
        "# positive if compound >= 0.2, negative if compound <= 0.2, neutral if -0.2 < compound < 0.2\n",
        "df['sentiment'] = df['compound'].apply(lambda c: 'positive' if c >=0.2 else ('negative' if c <= -0.2 else 'neutral'))\n",
        "df.head(25)\n",
        "df['sentiment'].value_counts()\n",
        "\n",
        "# neutral     2305\n",
        "# positive    2169\n",
        "# negative     372\n",
        "# Name: sentiment, dtype: int64\n",
        "\n",
        "# How many tweets are there in the give set:\n",
        "# totoal = 2305 + 2169 + 372 = 4846\n",
        "\n",
        "# What percentage of tweets are labeled as postive by our sentiment intensity analyzer?\n",
        "# positive_percentage = 2169 / 4846 = 0.44758563763929016\n",
        "\n",
        "# What percentage of tweets are labeled as negative by our sentiment intensity analyzer?\n",
        "# negative_percentage = 372 / 4846 = 0.07676434172513413\n",
        "\n",
        "from sklearn.metrics import accuracy_score\n",
        "accuracy_score(df['Sentiment'], df['sentiment'])\n",
        "\n",
        "# How well aligned the originally provided labels, and the labels computed by our sentimentintensity analyzer?\n",
        "# 0.5507635163021048\n",
        "\n"
      ]
    }
  ],
  "metadata": {
    "colab": {
      "name": "Untitled0.ipynb",
      "provenance": []
    },
    "kernelspec": {
      "display_name": "Python 3",
      "name": "python3"
    },
    "language_info": {
      "codemirror_mode": {
        "name": "ipython",
        "version": 3
      },
      "file_extension": ".py",
      "mimetype": "text/x-python",
      "name": "python",
      "nbconvert_exporter": "python",
      "pygments_lexer": "ipython3",
      "version": "3.8.8"
    }
  },
  "nbformat": 4,
  "nbformat_minor": 0
}
